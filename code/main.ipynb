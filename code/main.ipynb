{
 "cells": [
  {
   "cell_type": "markdown",
   "id": "0182a0c2",
   "metadata": {},
   "source": [
    "**Objetivo:** Leer y estandarizar los datasets (SIES, DEMRE, IVM, georreferenciación, etc.)\n",
    "\n",
    "- Cargar datos de todas las fuentes\n",
    "- Verificar formatos y columnas clave\n",
    "- Establecer claves de unión (`MRUN`, `RBD`, códigos de institución)\n",
    "- Guardar versiones limpias en `data/processed/` (opcional)"
   ]
  },
  {
   "cell_type": "code",
   "execution_count": null,
   "id": "44ec3bc7",
   "metadata": {},
   "outputs": [],
   "source": [
    "import utils\n",
    "from pathlib import Path"
   ]
  },
  {
   "cell_type": "code",
   "execution_count": null,
   "id": "51098410",
   "metadata": {},
   "outputs": [],
   "source": [
    "# Lectura \n",
    "path = \"../data/raw/2021\"\n",
    "list( Path(path).glob('*'))"
   ]
  },
  {
   "cell_type": "code",
   "execution_count": null,
   "id": "f37a56ea",
   "metadata": {},
   "outputs": [],
   "source": [
    "# Ruta base\n",
    "path = '../data/raw'\n",
    "path_base = Path(path)\n",
    "year = 2021\n",
    "\n",
    "# Obtener paths del año\n",
    "path_year = utils.obtener_paths_anio(path_base, year)\n",
    "path_year"
   ]
  },
  {
   "cell_type": "code",
   "execution_count": null,
   "id": "ef1c7867",
   "metadata": {},
   "outputs": [],
   "source": [
    "# Leer conjuntos individuales\n",
    "set_a = utils.leer_conjunto_a_desde_path(path_year['matricula'], utils.region_dict)\n",
    "set_b = utils.leer_conjunto_b_desde_path(path_year['puntajes'], utils.region_dict)\n",
    "set_c = utils.leer_conjunto_c_desde_path(path_year['establecimientos'])\n",
    "set_d = utils.leer_conjunto_d_desde_path(path_year['inmuebles_ies'], utils.region_dict)\n",
    "set_e = utils.leer_conjunto_e_desde_path(path_year['ivm'])"
   ]
  },
  {
   "cell_type": "code",
   "execution_count": null,
   "id": "e94dd05c",
   "metadata": {},
   "outputs": [],
   "source": [
    "# Filtrar A1\n",
    "resultados_a = utils.generar_conjuntos_filtrados(set_a, year)\n",
    "set_a0 = resultados_a['A0']\n",
    "set_aa = resultados_a['A']\n",
    "set_a1 = resultados_a['A1']\n"
   ]
  },
  {
   "cell_type": "code",
   "execution_count": null,
   "id": "56b60f37",
   "metadata": {},
   "outputs": [],
   "source": [
    "# Carpeta de salida\n",
    "output_path = Path(f'../data/clean/{year}')\n",
    "output_path.mkdir(parents=True, exist_ok=True)\n",
    "\n",
    "# Guardar conjuntos individuales\n",
    "set_a.to_csv(output_path / 'set_a.csv', index=False)\n",
    "set_a0.to_csv(output_path / 'set_a0.csv', index=False)\n",
    "set_aa.to_csv(output_path / 'set_aa.csv', index=False)\n",
    "set_a1.to_csv(output_path / 'set_a1.csv', index=False)\n",
    "set_b.to_csv(output_path / 'set_b.csv', index=False)\n",
    "set_c.to_csv(output_path / 'set_c.csv', index=False)\n",
    "set_d.to_csv(output_path / 'set_d.csv', index=False)\n",
    "set_e.to_csv(output_path / 'set_e.csv', index=False)"
   ]
  },
  {
   "cell_type": "code",
   "execution_count": null,
   "id": "87d78a17",
   "metadata": {},
   "outputs": [],
   "source": [
    "# Generar y guardar conjuntos integrados\n",
    "utils.generar_conjuntos_abcde(\n",
    "    set_a=set_a1,\n",
    "    set_b=set_b,\n",
    "    set_c=set_c,\n",
    "    set_d=set_d,\n",
    "    set_e=set_e,\n",
    "    output_path=output_path\n",
    ")"
   ]
  },
  {
   "cell_type": "markdown",
   "id": "45d40df4",
   "metadata": {},
   "source": [
    "**Objetivo:** Explorar y analizar los datos limpios generados en la etapa de lectura.\n",
    "\n",
    "- Revisar estructura general y dimensiones de los datasets  \n",
    "- Analizar variables clave y su distribución  \n",
    "- Identificar outliers, datos faltantes y relaciones relevantes  \n",
    "- Generar visualizaciones exploratorias para apoyar el análisis  \n"
   ]
  },
  {
   "cell_type": "code",
   "execution_count": 12,
   "id": "8bda4ea3",
   "metadata": {},
   "outputs": [],
   "source": [
    "import plots\n",
    "import pandas as pd\n",
    "from pathlib import Path"
   ]
  },
  {
   "cell_type": "code",
   "execution_count": 24,
   "id": "1d118b13",
   "metadata": {},
   "outputs": [],
   "source": [
    "# usar la función\n",
    "orden_regiones = [\n",
    "    'Arica y Parinacota', 'Tarapacá', 'Antofagasta', 'Atacama', 'Coquimbo',\n",
    "    'Valparaíso', 'Metropolitana', \"Lib. Gral B. O'Higgins\", 'Maule', 'Ñuble',\n",
    "    'Biobío', 'La Araucanía', 'Los Ríos', 'Los Lagos', 'Aysén', 'Magallanes'\n",
    "]\n",
    "\n",
    "tipos_universidad = [\n",
    "    'Universidades Estatales CRUCH', \n",
    "    'Universidades Privadas', \n",
    "    'Universidades Privadas CRUCH'\n",
    "]\n"
   ]
  },
  {
   "cell_type": "code",
   "execution_count": 25,
   "id": "b59e3942",
   "metadata": {},
   "outputs": [],
   "source": [
    "import plotly.graph_objects as go\n",
    "import pandas as pd\n",
    "\n",
    "def plot_tipo_universidad_por_region_plotly(df, tipos_universidad, orden_regiones):\n",
    "    \"\"\"\n",
    "    Gráfico de barras apiladas horizontales en Plotly mostrando el porcentaje de tipos de universidad por región.\n",
    "    \n",
    "    Parámetros:\n",
    "    -----------\n",
    "    df : pd.DataFrame\n",
    "        DataFrame con las columnas 'cod_inst', 'region_sede' y 'tipo_inst_3'.\n",
    "    tipos_universidad : list\n",
    "        Lista con los tipos de universidad a filtrar.\n",
    "    orden_regiones : list\n",
    "        Lista con las regiones ordenadas de norte a sur.\n",
    "    \"\"\"\n",
    "\n",
    "    # Filtrar datos y eliminar duplicados\n",
    "    df_filtered = df[df['tipo_inst_3'].isin(tipos_universidad)].copy()\n",
    "    df_filtered_unique = df_filtered.drop_duplicates(subset=['cod_inst', 'region_sede', 'tipo_inst_3'])\n",
    "\n",
    "    # Ordenar regiones como categoría\n",
    "    df_filtered_unique['region_sede'] = pd.Categorical(\n",
    "        df_filtered_unique['region_sede'], \n",
    "        categories=orden_regiones, \n",
    "        #ordered=True\n",
    "    )\n",
    "\n",
    "    # Agrupar y calcular porcentaje\n",
    "    df_grouped = df_filtered_unique.groupby(['region_sede', 'tipo_inst_3'], observed=True).size().unstack(fill_value=0)\n",
    "    df_grouped = df_grouped.div(df_grouped.sum(axis=1), axis=0) * 100\n",
    "    df_grouped = df_grouped.reindex(orden_regiones)\n",
    "\n",
    "    # Colores (puedes personalizarlos)\n",
    "    colores = {\n",
    "        'Universidades Estatales CRUCH': 'blue',\n",
    "        'Universidades Privadas': 'green',\n",
    "        'Universidades Privadas CRUCH': 'orange',\n",
    "    }\n",
    "\n",
    "    # Crear gráfico Plotly\n",
    "    fig = go.Figure()\n",
    "\n",
    "    for tipo in df_grouped.columns:\n",
    "        fig.add_trace(go.Bar(\n",
    "            y=df_grouped.index,\n",
    "            x=df_grouped[tipo],\n",
    "            name=tipo,\n",
    "            orientation='h',\n",
    "            marker=dict(color=colores.get(tipo, None)),\n",
    "            text=df_grouped[tipo].apply(lambda x: f'{x:.0f}%'),\n",
    "            textposition='inside',\n",
    "            insidetextanchor='middle',\n",
    "        ))\n",
    "\n",
    "    # Layout\n",
    "    fig.update_layout(\n",
    "        barmode='stack',\n",
    "        title='Porcentaje Tipo Universidad por Región',\n",
    "        xaxis_title='Porcentaje',\n",
    "        yaxis_title='Región',\n",
    "        legend_title='Tipo de Universidad',\n",
    "        height=600,\n",
    "        margin=dict(l=50, r=200, t=50, b=50),\n",
    "    )\n",
    "\n",
    "    fig.show()\n"
   ]
  },
  {
   "cell_type": "code",
   "execution_count": 28,
   "id": "e26fc7cc",
   "metadata": {},
   "outputs": [],
   "source": [
    "import plotly.graph_objects as go\n",
    "import pandas as pd\n",
    "\n",
    "def plot_tipodepen_por_region_plotly(df, regiones_dict, tipodepen_dict, index_order):\n",
    "    \"\"\"\n",
    "    Genera un gráfico de barras apiladas con el porcentaje de TIPO_DEPEN por región (versión Plotly).\n",
    "\n",
    "    Parámetros:\n",
    "    -----------\n",
    "    df : pd.DataFrame\n",
    "        DataFrame con columnas: 'NOM_RBD', 'COD_REG_RB' y 'TIPO_DEPEN'.\n",
    "    regiones_dict : dict\n",
    "        Diccionario para mapear ID de región a nombre.\n",
    "    tipodepen_dict : dict\n",
    "        Diccionario para mapear número de TIPO_DEPEN a nombre.\n",
    "    index_order : list\n",
    "        Lista con las regiones ordenadas de norte a sur.\n",
    "    \"\"\"\n",
    "\n",
    "    # Filtrar y eliminar duplicados\n",
    "    df_filtered = df.copy()\n",
    "    df_filtered_unique = df_filtered.drop_duplicates(subset=['NOM_RBD', 'COD_REG_RB', 'TIPO_DEPEN'])\n",
    "\n",
    "    # Agrupar y calcular porcentaje\n",
    "    df_grouped = df_filtered_unique.groupby(['COD_REG_RB', 'TIPO_DEPEN'], observed=True).size().unstack(fill_value=0)\n",
    "    df_grouped = df_grouped.div(df_grouped.sum(axis=1), axis=0) * 100\n",
    "\n",
    "    # Mapear nombres\n",
    "    df_grouped.index = df_grouped.index.map(regiones_dict)\n",
    "    df_grouped.columns = df_grouped.columns.map(tipodepen_dict)\n",
    "\n",
    "    # Eliminar duplicados en index_order y reordenar (de norte a sur)\n",
    "    index_order = sorted(set(index_order), key=index_order.index)\n",
    "    df_grouped = df_grouped.reindex(index_order[::-1])\n",
    "\n",
    "    # Colores personalizados\n",
    "    colors = ['#1f77b4', '#ff7f0e', '#2ca02c', '#d62728', '#9467bd']\n",
    "\n",
    "    # Crear gráfico Plotly\n",
    "    fig = go.Figure()\n",
    "\n",
    "    for i, tipo in enumerate(df_grouped.columns):\n",
    "        fig.add_trace(go.Bar(\n",
    "            y=df_grouped.index,\n",
    "            x=df_grouped[tipo],\n",
    "            name=tipo,\n",
    "            orientation='h',\n",
    "            marker=dict(color=colors[i % len(colors)]),\n",
    "            text=df_grouped[tipo].apply(lambda x: f'{x:.0f}%' if x > 0.99 else ''),\n",
    "            textposition='inside',\n",
    "            insidetextanchor='middle',\n",
    "            hovertemplate=f'{tipo}<br>%{{y}}: %{{x:.1f}}%<extra></extra>'\n",
    "        ))\n",
    "\n",
    "    # Layout personalizado\n",
    "    fig.update_layout(\n",
    "        barmode='stack',\n",
    "        title='Porcentaje de TIPO_DEPEN para cada región',\n",
    "        xaxis_title='Porcentaje (%)',\n",
    "        yaxis_title='Región',\n",
    "        legend_title='TIPO_DEPEN',\n",
    "        height=700,\n",
    "        margin=dict(l=50, r=200, t=50, b=50),\n",
    "    )\n",
    "\n",
    "    fig.show()\n"
   ]
  },
  {
   "cell_type": "code",
   "execution_count": 26,
   "id": "df0eca8b",
   "metadata": {},
   "outputs": [],
   "source": [
    "# Lectura de datos\n",
    "\n",
    "year = 2021\n",
    "DATA_DIR = Path(f\"../data/clean/{year}\")\n",
    "\n",
    "# Buscar archivos\n",
    "archivos = list(DATA_DIR.glob('set_*.csv'))\n",
    "\n",
    "# Leer archivos y guardar en un diccionario\n",
    "data = {\n",
    "    archivo.stem: pd.read_csv(archivo)\n",
    "    for archivo in archivos\n",
    "}"
   ]
  },
  {
   "cell_type": "code",
   "execution_count": 27,
   "id": "ae7eb8a1",
   "metadata": {},
   "outputs": [
    {
     "name": "stderr",
     "output_type": "stream",
     "text": [
      "C:\\Users\\franc\\AppData\\Local\\Temp\\ipykernel_28004\\2650108794.py:23: SettingWithCopyWarning: \n",
      "A value is trying to be set on a copy of a slice from a DataFrame.\n",
      "Try using .loc[row_indexer,col_indexer] = value instead\n",
      "\n",
      "See the caveats in the documentation: https://pandas.pydata.org/pandas-docs/stable/user_guide/indexing.html#returning-a-view-versus-a-copy\n",
      "  df_filtered_unique['region_sede'] = pd.Categorical(\n"
     ]
    },
    {
     "data": {
      "application/vnd.plotly.v1+json": {
       "config": {
        "plotlyServerURL": "https://plot.ly"
       },
       "data": [
        {
         "insidetextanchor": "middle",
         "marker": {
          "color": "blue"
         },
         "name": "Universidades Estatales CRUCH",
         "orientation": "h",
         "text": [
          "40%",
          "40%",
          "22%",
          "33%",
          "11%",
          "18%",
          "21%",
          "40%",
          "14%",
          "12%",
          "8%",
          "20%",
          "0%",
          "17%",
          "50%",
          "50%"
         ],
         "textposition": "inside",
         "type": "bar",
         "x": {
          "bdata": "AAAAAAAAREAAAAAAAABEQI7jOI7jODZAqqqqqqqqQECO4ziO4zgmQC+66KKLLjJA11BeQ3kNNUAAAAAAAABEQCRJkiRJkixAAAAAAAAAKUCqqqqqqqogQAAAAAAAADRAAAAAAAAAAACqqqqqqqowQAAAAAAAAElAAAAAAAAASUA=",
          "dtype": "f8"
         },
         "y": [
          "Arica y Parinacota",
          "Tarapacá",
          "Antofagasta",
          "Atacama",
          "Coquimbo",
          "Valparaíso",
          "Metropolitana",
          "Lib. Gral B. O'Higgins",
          "Maule",
          "Ñuble",
          "Biobío",
          "La Araucanía",
          "Los Ríos",
          "Los Lagos",
          "Aysén",
          "Magallanes"
         ]
        },
        {
         "insidetextanchor": "middle",
         "marker": {
          "color": "green"
         },
         "name": "Universidades Privadas",
         "orientation": "h",
         "text": [
          "60%",
          "60%",
          "67%",
          "67%",
          "78%",
          "64%",
          "63%",
          "60%",
          "71%",
          "62%",
          "67%",
          "60%",
          "75%",
          "67%",
          "25%",
          "50%"
         ],
         "textposition": "inside",
         "type": "bar",
         "x": {
          "bdata": "AAAAAAAATkAAAAAAAABOQKqqqqqqqlBAqqqqqqqqUEAdx3Ecx3FTQNFFF1100U9AQ3kN5TWUT0AAAAAAAABOQLdt27Zt21FAAAAAAABAT0CqqqqqqqpQQAAAAAAAAE5AAAAAAADAUkCqqqqqqqpQQAAAAAAAADlAAAAAAAAASUA=",
          "dtype": "f8"
         },
         "y": [
          "Arica y Parinacota",
          "Tarapacá",
          "Antofagasta",
          "Atacama",
          "Coquimbo",
          "Valparaíso",
          "Metropolitana",
          "Lib. Gral B. O'Higgins",
          "Maule",
          "Ñuble",
          "Biobío",
          "La Araucanía",
          "Los Ríos",
          "Los Lagos",
          "Aysén",
          "Magallanes"
         ]
        },
        {
         "insidetextanchor": "middle",
         "marker": {
          "color": "orange"
         },
         "name": "Universidades Privadas CRUCH",
         "orientation": "h",
         "text": [
          "0%",
          "0%",
          "11%",
          "0%",
          "11%",
          "18%",
          "16%",
          "0%",
          "14%",
          "25%",
          "25%",
          "20%",
          "25%",
          "17%",
          "25%",
          "0%"
         ],
         "textposition": "inside",
         "type": "bar",
         "x": {
          "bdata": "AAAAAAAAAAAAAAAAAAAAAI7jOI7jOCZAAAAAAAAAAACO4ziO4zgmQC+66KKLLjJAQ3kN5TWUL0AAAAAAAAAAACRJkiRJkixAAAAAAAAAOUAAAAAAAAA5QAAAAAAAADRAAAAAAAAAOUCqqqqqqqowQAAAAAAAADlAAAAAAAAAAAA=",
          "dtype": "f8"
         },
         "y": [
          "Arica y Parinacota",
          "Tarapacá",
          "Antofagasta",
          "Atacama",
          "Coquimbo",
          "Valparaíso",
          "Metropolitana",
          "Lib. Gral B. O'Higgins",
          "Maule",
          "Ñuble",
          "Biobío",
          "La Araucanía",
          "Los Ríos",
          "Los Lagos",
          "Aysén",
          "Magallanes"
         ]
        }
       ],
       "layout": {
        "barmode": "stack",
        "height": 600,
        "legend": {
         "title": {
          "text": "Tipo de Universidad"
         }
        },
        "margin": {
         "b": 50,
         "l": 50,
         "r": 200,
         "t": 50
        },
        "template": {
         "data": {
          "bar": [
           {
            "error_x": {
             "color": "#2a3f5f"
            },
            "error_y": {
             "color": "#2a3f5f"
            },
            "marker": {
             "line": {
              "color": "#E5ECF6",
              "width": 0.5
             },
             "pattern": {
              "fillmode": "overlay",
              "size": 10,
              "solidity": 0.2
             }
            },
            "type": "bar"
           }
          ],
          "barpolar": [
           {
            "marker": {
             "line": {
              "color": "#E5ECF6",
              "width": 0.5
             },
             "pattern": {
              "fillmode": "overlay",
              "size": 10,
              "solidity": 0.2
             }
            },
            "type": "barpolar"
           }
          ],
          "carpet": [
           {
            "aaxis": {
             "endlinecolor": "#2a3f5f",
             "gridcolor": "white",
             "linecolor": "white",
             "minorgridcolor": "white",
             "startlinecolor": "#2a3f5f"
            },
            "baxis": {
             "endlinecolor": "#2a3f5f",
             "gridcolor": "white",
             "linecolor": "white",
             "minorgridcolor": "white",
             "startlinecolor": "#2a3f5f"
            },
            "type": "carpet"
           }
          ],
          "choropleth": [
           {
            "colorbar": {
             "outlinewidth": 0,
             "ticks": ""
            },
            "type": "choropleth"
           }
          ],
          "contour": [
           {
            "colorbar": {
             "outlinewidth": 0,
             "ticks": ""
            },
            "colorscale": [
             [
              0,
              "#0d0887"
             ],
             [
              0.1111111111111111,
              "#46039f"
             ],
             [
              0.2222222222222222,
              "#7201a8"
             ],
             [
              0.3333333333333333,
              "#9c179e"
             ],
             [
              0.4444444444444444,
              "#bd3786"
             ],
             [
              0.5555555555555556,
              "#d8576b"
             ],
             [
              0.6666666666666666,
              "#ed7953"
             ],
             [
              0.7777777777777778,
              "#fb9f3a"
             ],
             [
              0.8888888888888888,
              "#fdca26"
             ],
             [
              1,
              "#f0f921"
             ]
            ],
            "type": "contour"
           }
          ],
          "contourcarpet": [
           {
            "colorbar": {
             "outlinewidth": 0,
             "ticks": ""
            },
            "type": "contourcarpet"
           }
          ],
          "heatmap": [
           {
            "colorbar": {
             "outlinewidth": 0,
             "ticks": ""
            },
            "colorscale": [
             [
              0,
              "#0d0887"
             ],
             [
              0.1111111111111111,
              "#46039f"
             ],
             [
              0.2222222222222222,
              "#7201a8"
             ],
             [
              0.3333333333333333,
              "#9c179e"
             ],
             [
              0.4444444444444444,
              "#bd3786"
             ],
             [
              0.5555555555555556,
              "#d8576b"
             ],
             [
              0.6666666666666666,
              "#ed7953"
             ],
             [
              0.7777777777777778,
              "#fb9f3a"
             ],
             [
              0.8888888888888888,
              "#fdca26"
             ],
             [
              1,
              "#f0f921"
             ]
            ],
            "type": "heatmap"
           }
          ],
          "histogram": [
           {
            "marker": {
             "pattern": {
              "fillmode": "overlay",
              "size": 10,
              "solidity": 0.2
             }
            },
            "type": "histogram"
           }
          ],
          "histogram2d": [
           {
            "colorbar": {
             "outlinewidth": 0,
             "ticks": ""
            },
            "colorscale": [
             [
              0,
              "#0d0887"
             ],
             [
              0.1111111111111111,
              "#46039f"
             ],
             [
              0.2222222222222222,
              "#7201a8"
             ],
             [
              0.3333333333333333,
              "#9c179e"
             ],
             [
              0.4444444444444444,
              "#bd3786"
             ],
             [
              0.5555555555555556,
              "#d8576b"
             ],
             [
              0.6666666666666666,
              "#ed7953"
             ],
             [
              0.7777777777777778,
              "#fb9f3a"
             ],
             [
              0.8888888888888888,
              "#fdca26"
             ],
             [
              1,
              "#f0f921"
             ]
            ],
            "type": "histogram2d"
           }
          ],
          "histogram2dcontour": [
           {
            "colorbar": {
             "outlinewidth": 0,
             "ticks": ""
            },
            "colorscale": [
             [
              0,
              "#0d0887"
             ],
             [
              0.1111111111111111,
              "#46039f"
             ],
             [
              0.2222222222222222,
              "#7201a8"
             ],
             [
              0.3333333333333333,
              "#9c179e"
             ],
             [
              0.4444444444444444,
              "#bd3786"
             ],
             [
              0.5555555555555556,
              "#d8576b"
             ],
             [
              0.6666666666666666,
              "#ed7953"
             ],
             [
              0.7777777777777778,
              "#fb9f3a"
             ],
             [
              0.8888888888888888,
              "#fdca26"
             ],
             [
              1,
              "#f0f921"
             ]
            ],
            "type": "histogram2dcontour"
           }
          ],
          "mesh3d": [
           {
            "colorbar": {
             "outlinewidth": 0,
             "ticks": ""
            },
            "type": "mesh3d"
           }
          ],
          "parcoords": [
           {
            "line": {
             "colorbar": {
              "outlinewidth": 0,
              "ticks": ""
             }
            },
            "type": "parcoords"
           }
          ],
          "pie": [
           {
            "automargin": true,
            "type": "pie"
           }
          ],
          "scatter": [
           {
            "fillpattern": {
             "fillmode": "overlay",
             "size": 10,
             "solidity": 0.2
            },
            "type": "scatter"
           }
          ],
          "scatter3d": [
           {
            "line": {
             "colorbar": {
              "outlinewidth": 0,
              "ticks": ""
             }
            },
            "marker": {
             "colorbar": {
              "outlinewidth": 0,
              "ticks": ""
             }
            },
            "type": "scatter3d"
           }
          ],
          "scattercarpet": [
           {
            "marker": {
             "colorbar": {
              "outlinewidth": 0,
              "ticks": ""
             }
            },
            "type": "scattercarpet"
           }
          ],
          "scattergeo": [
           {
            "marker": {
             "colorbar": {
              "outlinewidth": 0,
              "ticks": ""
             }
            },
            "type": "scattergeo"
           }
          ],
          "scattergl": [
           {
            "marker": {
             "colorbar": {
              "outlinewidth": 0,
              "ticks": ""
             }
            },
            "type": "scattergl"
           }
          ],
          "scattermap": [
           {
            "marker": {
             "colorbar": {
              "outlinewidth": 0,
              "ticks": ""
             }
            },
            "type": "scattermap"
           }
          ],
          "scattermapbox": [
           {
            "marker": {
             "colorbar": {
              "outlinewidth": 0,
              "ticks": ""
             }
            },
            "type": "scattermapbox"
           }
          ],
          "scatterpolar": [
           {
            "marker": {
             "colorbar": {
              "outlinewidth": 0,
              "ticks": ""
             }
            },
            "type": "scatterpolar"
           }
          ],
          "scatterpolargl": [
           {
            "marker": {
             "colorbar": {
              "outlinewidth": 0,
              "ticks": ""
             }
            },
            "type": "scatterpolargl"
           }
          ],
          "scatterternary": [
           {
            "marker": {
             "colorbar": {
              "outlinewidth": 0,
              "ticks": ""
             }
            },
            "type": "scatterternary"
           }
          ],
          "surface": [
           {
            "colorbar": {
             "outlinewidth": 0,
             "ticks": ""
            },
            "colorscale": [
             [
              0,
              "#0d0887"
             ],
             [
              0.1111111111111111,
              "#46039f"
             ],
             [
              0.2222222222222222,
              "#7201a8"
             ],
             [
              0.3333333333333333,
              "#9c179e"
             ],
             [
              0.4444444444444444,
              "#bd3786"
             ],
             [
              0.5555555555555556,
              "#d8576b"
             ],
             [
              0.6666666666666666,
              "#ed7953"
             ],
             [
              0.7777777777777778,
              "#fb9f3a"
             ],
             [
              0.8888888888888888,
              "#fdca26"
             ],
             [
              1,
              "#f0f921"
             ]
            ],
            "type": "surface"
           }
          ],
          "table": [
           {
            "cells": {
             "fill": {
              "color": "#EBF0F8"
             },
             "line": {
              "color": "white"
             }
            },
            "header": {
             "fill": {
              "color": "#C8D4E3"
             },
             "line": {
              "color": "white"
             }
            },
            "type": "table"
           }
          ]
         },
         "layout": {
          "annotationdefaults": {
           "arrowcolor": "#2a3f5f",
           "arrowhead": 0,
           "arrowwidth": 1
          },
          "autotypenumbers": "strict",
          "coloraxis": {
           "colorbar": {
            "outlinewidth": 0,
            "ticks": ""
           }
          },
          "colorscale": {
           "diverging": [
            [
             0,
             "#8e0152"
            ],
            [
             0.1,
             "#c51b7d"
            ],
            [
             0.2,
             "#de77ae"
            ],
            [
             0.3,
             "#f1b6da"
            ],
            [
             0.4,
             "#fde0ef"
            ],
            [
             0.5,
             "#f7f7f7"
            ],
            [
             0.6,
             "#e6f5d0"
            ],
            [
             0.7,
             "#b8e186"
            ],
            [
             0.8,
             "#7fbc41"
            ],
            [
             0.9,
             "#4d9221"
            ],
            [
             1,
             "#276419"
            ]
           ],
           "sequential": [
            [
             0,
             "#0d0887"
            ],
            [
             0.1111111111111111,
             "#46039f"
            ],
            [
             0.2222222222222222,
             "#7201a8"
            ],
            [
             0.3333333333333333,
             "#9c179e"
            ],
            [
             0.4444444444444444,
             "#bd3786"
            ],
            [
             0.5555555555555556,
             "#d8576b"
            ],
            [
             0.6666666666666666,
             "#ed7953"
            ],
            [
             0.7777777777777778,
             "#fb9f3a"
            ],
            [
             0.8888888888888888,
             "#fdca26"
            ],
            [
             1,
             "#f0f921"
            ]
           ],
           "sequentialminus": [
            [
             0,
             "#0d0887"
            ],
            [
             0.1111111111111111,
             "#46039f"
            ],
            [
             0.2222222222222222,
             "#7201a8"
            ],
            [
             0.3333333333333333,
             "#9c179e"
            ],
            [
             0.4444444444444444,
             "#bd3786"
            ],
            [
             0.5555555555555556,
             "#d8576b"
            ],
            [
             0.6666666666666666,
             "#ed7953"
            ],
            [
             0.7777777777777778,
             "#fb9f3a"
            ],
            [
             0.8888888888888888,
             "#fdca26"
            ],
            [
             1,
             "#f0f921"
            ]
           ]
          },
          "colorway": [
           "#636efa",
           "#EF553B",
           "#00cc96",
           "#ab63fa",
           "#FFA15A",
           "#19d3f3",
           "#FF6692",
           "#B6E880",
           "#FF97FF",
           "#FECB52"
          ],
          "font": {
           "color": "#2a3f5f"
          },
          "geo": {
           "bgcolor": "white",
           "lakecolor": "white",
           "landcolor": "#E5ECF6",
           "showlakes": true,
           "showland": true,
           "subunitcolor": "white"
          },
          "hoverlabel": {
           "align": "left"
          },
          "hovermode": "closest",
          "mapbox": {
           "style": "light"
          },
          "paper_bgcolor": "white",
          "plot_bgcolor": "#E5ECF6",
          "polar": {
           "angularaxis": {
            "gridcolor": "white",
            "linecolor": "white",
            "ticks": ""
           },
           "bgcolor": "#E5ECF6",
           "radialaxis": {
            "gridcolor": "white",
            "linecolor": "white",
            "ticks": ""
           }
          },
          "scene": {
           "xaxis": {
            "backgroundcolor": "#E5ECF6",
            "gridcolor": "white",
            "gridwidth": 2,
            "linecolor": "white",
            "showbackground": true,
            "ticks": "",
            "zerolinecolor": "white"
           },
           "yaxis": {
            "backgroundcolor": "#E5ECF6",
            "gridcolor": "white",
            "gridwidth": 2,
            "linecolor": "white",
            "showbackground": true,
            "ticks": "",
            "zerolinecolor": "white"
           },
           "zaxis": {
            "backgroundcolor": "#E5ECF6",
            "gridcolor": "white",
            "gridwidth": 2,
            "linecolor": "white",
            "showbackground": true,
            "ticks": "",
            "zerolinecolor": "white"
           }
          },
          "shapedefaults": {
           "line": {
            "color": "#2a3f5f"
           }
          },
          "ternary": {
           "aaxis": {
            "gridcolor": "white",
            "linecolor": "white",
            "ticks": ""
           },
           "baxis": {
            "gridcolor": "white",
            "linecolor": "white",
            "ticks": ""
           },
           "bgcolor": "#E5ECF6",
           "caxis": {
            "gridcolor": "white",
            "linecolor": "white",
            "ticks": ""
           }
          },
          "title": {
           "x": 0.05
          },
          "xaxis": {
           "automargin": true,
           "gridcolor": "white",
           "linecolor": "white",
           "ticks": "",
           "title": {
            "standoff": 15
           },
           "zerolinecolor": "white",
           "zerolinewidth": 2
          },
          "yaxis": {
           "automargin": true,
           "gridcolor": "white",
           "linecolor": "white",
           "ticks": "",
           "title": {
            "standoff": 15
           },
           "zerolinecolor": "white",
           "zerolinewidth": 2
          }
         }
        },
        "title": {
         "text": "Porcentaje Tipo Universidad por Región"
        },
        "xaxis": {
         "title": {
          "text": "Porcentaje"
         }
        },
        "yaxis": {
         "title": {
          "text": "Región"
         }
        }
       }
      }
     },
     "metadata": {},
     "output_type": "display_data"
    }
   ],
   "source": [
    "plot_tipo_universidad_por_region_plotly(data['set_a'], tipos_universidad, orden_regiones)"
   ]
  },
  {
   "cell_type": "code",
   "execution_count": 29,
   "id": "0e3f517b",
   "metadata": {},
   "outputs": [
    {
     "data": {
      "application/vnd.plotly.v1+json": {
       "config": {
        "plotlyServerURL": "https://plot.ly"
       },
       "data": [
        {
         "hovertemplate": "Municipal<br>%{y}: %{x:.1f}%<extra></extra>",
         "insidetextanchor": "middle",
         "marker": {
          "color": "#1f77b4"
         },
         "name": "Municipal",
         "orientation": "h",
         "text": [
          "46%",
          "21%",
          "59%",
          "64%",
          "53%",
          "38%",
          "68%",
          "45%",
          "63%",
          "48%",
          "33%",
          "46%",
          "",
          "52%",
          "34%",
          ""
         ],
         "textposition": "inside",
         "type": "bar",
         "x": {
          "bdata": "id4zid4zR0CjL9bGy3c1QB3HcRzHcU1A0UUXXXTRT0C/R+QE4W5KQEYeI4+Rx0JATxMz6hgIUUCV+QHYqZBGQDHXf0WioU9AONcxinMdSEDe7QkZ5ntAQG9605ve5EZAAAAAAAAAAABWVVVVVdVJQBO1K1G7EkFAAAAAAAAAAAA=",
          "dtype": "f8"
         },
         "y": [
          "Región de Magallanes y de la Antártica Chilena",
          "Región de Aysén del Gral. Carlos Ibáñez del Campo",
          "Región de Los Lagos",
          "Región de Los Ríos",
          "Región de La Araucanía",
          "Región de Biobío",
          "Región de Ñuble",
          "Región del Maule",
          "Región del Libertador Gral. Bernardo O’Higgins",
          "Región Metropolitana de Santiago",
          "Región de Valparaíso",
          "Región de Coquimbo",
          "Región de Atacama",
          "Región de Antofagasta",
          "Región de Tarapacá",
          "Región de Arica y Parinacota"
         ]
        },
        {
         "hovertemplate": "Particular Subvencionado<br>%{y}: %{x:.1f}%<extra></extra>",
         "insidetextanchor": "middle",
         "marker": {
          "color": "#ff7f0e"
         },
         "name": "Particular Subvencionado",
         "orientation": "h",
         "text": [
          "51%",
          "64%",
          "33%",
          "34%",
          "37%",
          "54%",
          "30%",
          "45%",
          "34%",
          "39%",
          "54%",
          "43%",
          "28%",
          "35%",
          "56%",
          "52%"
         ],
         "textposition": "inside",
         "type": "bar",
         "x": {
          "bdata": "fX19fX19SUB722zF499PQKqqqqqqqkBAiy666KILQUC+LmZcmrxCQDjaG+2N9kpAb8ph2ZkrPkAy3YBOSl9GQPnx48ePH0FAEVPmFTFlQ0CFvXkGoRtLQNSb3vSmd0VAJbzR1Pm1O0CrqqqqqkpBQA3Ox+B8DExAcODAgQMHSkA=",
          "dtype": "f8"
         },
         "y": [
          "Región de Magallanes y de la Antártica Chilena",
          "Región de Aysén del Gral. Carlos Ibáñez del Campo",
          "Región de Los Lagos",
          "Región de Los Ríos",
          "Región de La Araucanía",
          "Región de Biobío",
          "Región de Ñuble",
          "Región del Maule",
          "Región del Libertador Gral. Bernardo O’Higgins",
          "Región Metropolitana de Santiago",
          "Región de Valparaíso",
          "Región de Coquimbo",
          "Región de Atacama",
          "Región de Antofagasta",
          "Región de Tarapacá",
          "Región de Arica y Parinacota"
         ]
        },
        {
         "hovertemplate": "Particular Pagado<br>%{y}: %{x:.1f}%<extra></extra>",
         "insidetextanchor": "middle",
         "marker": {
          "color": "#2ca02c"
         },
         "name": "Particular Pagado",
         "orientation": "h",
         "text": [
          "3%",
          "11%",
          "8%",
          "1%",
          "2%",
          "1%",
          "",
          "3%",
          "2%",
          "4%",
          "8%",
          "4%",
          "6%",
          "14%",
          "9%",
          "4%"
         ],
         "textposition": "inside",
         "type": "bar",
         "x": {
          "bdata": "lT/qlD/qBEDdS/akCzolQMdxHMdxHB9AL7rooosu8j/VSBYBMvwAQIaaQk2hpvA/HCka4o9b5z+EiHPczw4EQAYkpb5O4/0/7BjFuY5RDEAZ5nuR/7AeQKc3velN7xFA9GsPuawYGEABAAAAAIArQInalahdiSJAAwcOHDhwEEA=",
          "dtype": "f8"
         },
         "y": [
          "Región de Magallanes y de la Antártica Chilena",
          "Región de Aysén del Gral. Carlos Ibáñez del Campo",
          "Región de Los Lagos",
          "Región de Los Ríos",
          "Región de La Araucanía",
          "Región de Biobío",
          "Región de Ñuble",
          "Región del Maule",
          "Región del Libertador Gral. Bernardo O’Higgins",
          "Región Metropolitana de Santiago",
          "Región de Valparaíso",
          "Región de Coquimbo",
          "Región de Atacama",
          "Región de Antofagasta",
          "Región de Tarapacá",
          "Región de Arica y Parinacota"
         ]
        },
        {
         "hovertemplate": "Corp. Administración Delegada<br>%{y}: %{x:.1f}%<extra></extra>",
         "insidetextanchor": "middle",
         "marker": {
          "color": "#d62728"
         },
         "name": "Corp. Administración Delegada",
         "orientation": "h",
         "text": [
          "",
          "1%",
          "",
          "1%",
          "",
          "",
          "",
          "",
          "",
          "",
          "",
          "",
          "",
          "",
          "",
          ""
         ],
         "textposition": "inside",
         "type": "bar",
         "x": {
          "bdata": "AAAAAAAAAADi94nWwDHyPwAAAAAAAAAAL7rooosu8j8iDorOHC27P8LgYHAwONg/e+Ei2L8k7z/eMY7AxK/oP1ltwynf7OM/7BjFuY5R7D+oC1XLWTDgPxaykIUsZME/AAAAAAAAAAAAAAAAAAAAADgfg/MxON8/AAAAAAAAAAA=",
          "dtype": "f8"
         },
         "y": [
          "Región de Magallanes y de la Antártica Chilena",
          "Región de Aysén del Gral. Carlos Ibáñez del Campo",
          "Región de Los Lagos",
          "Región de Los Ríos",
          "Región de La Araucanía",
          "Región de Biobío",
          "Región de Ñuble",
          "Región del Maule",
          "Región del Libertador Gral. Bernardo O’Higgins",
          "Región Metropolitana de Santiago",
          "Región de Valparaíso",
          "Región de Coquimbo",
          "Región de Atacama",
          "Región de Antofagasta",
          "Región de Tarapacá",
          "Región de Arica y Parinacota"
         ]
        },
        {
         "hovertemplate": "Servicio Local de Educación<br>%{y}: %{x:.1f}%<extra></extra>",
         "insidetextanchor": "middle",
         "marker": {
          "color": "#9467bd"
         },
         "name": "Servicio Local de Educación",
         "orientation": "h",
         "text": [
          "",
          "3%",
          "",
          "",
          "7%",
          "7%",
          "",
          "7%",
          "",
          "9%",
          "5%",
          "7%",
          "66%",
          "",
          "",
          "44%"
         ],
         "textposition": "inside",
         "type": "bar",
         "x": {
          "bdata": "AAAAAAAAAADZn2JzVkIIQAAAAAAAAAAAAAAAAAAAAAB1/+aBV7kdQGOHscPYYRxAAAAAAAAAAABSv51F/mIbQAAAAAAAAAAADr+R5fAbIUBbHfw4vIwSQLOQhSxkoRpAOJo6v/aQUEAAAAAAAAAAAAAAAAAAAAAAr169evXqRUA=",
          "dtype": "f8"
         },
         "y": [
          "Región de Magallanes y de la Antártica Chilena",
          "Región de Aysén del Gral. Carlos Ibáñez del Campo",
          "Región de Los Lagos",
          "Región de Los Ríos",
          "Región de La Araucanía",
          "Región de Biobío",
          "Región de Ñuble",
          "Región del Maule",
          "Región del Libertador Gral. Bernardo O’Higgins",
          "Región Metropolitana de Santiago",
          "Región de Valparaíso",
          "Región de Coquimbo",
          "Región de Atacama",
          "Región de Antofagasta",
          "Región de Tarapacá",
          "Región de Arica y Parinacota"
         ]
        }
       ],
       "layout": {
        "barmode": "stack",
        "height": 700,
        "legend": {
         "title": {
          "text": "TIPO_DEPEN"
         }
        },
        "margin": {
         "b": 50,
         "l": 50,
         "r": 200,
         "t": 50
        },
        "template": {
         "data": {
          "bar": [
           {
            "error_x": {
             "color": "#2a3f5f"
            },
            "error_y": {
             "color": "#2a3f5f"
            },
            "marker": {
             "line": {
              "color": "#E5ECF6",
              "width": 0.5
             },
             "pattern": {
              "fillmode": "overlay",
              "size": 10,
              "solidity": 0.2
             }
            },
            "type": "bar"
           }
          ],
          "barpolar": [
           {
            "marker": {
             "line": {
              "color": "#E5ECF6",
              "width": 0.5
             },
             "pattern": {
              "fillmode": "overlay",
              "size": 10,
              "solidity": 0.2
             }
            },
            "type": "barpolar"
           }
          ],
          "carpet": [
           {
            "aaxis": {
             "endlinecolor": "#2a3f5f",
             "gridcolor": "white",
             "linecolor": "white",
             "minorgridcolor": "white",
             "startlinecolor": "#2a3f5f"
            },
            "baxis": {
             "endlinecolor": "#2a3f5f",
             "gridcolor": "white",
             "linecolor": "white",
             "minorgridcolor": "white",
             "startlinecolor": "#2a3f5f"
            },
            "type": "carpet"
           }
          ],
          "choropleth": [
           {
            "colorbar": {
             "outlinewidth": 0,
             "ticks": ""
            },
            "type": "choropleth"
           }
          ],
          "contour": [
           {
            "colorbar": {
             "outlinewidth": 0,
             "ticks": ""
            },
            "colorscale": [
             [
              0,
              "#0d0887"
             ],
             [
              0.1111111111111111,
              "#46039f"
             ],
             [
              0.2222222222222222,
              "#7201a8"
             ],
             [
              0.3333333333333333,
              "#9c179e"
             ],
             [
              0.4444444444444444,
              "#bd3786"
             ],
             [
              0.5555555555555556,
              "#d8576b"
             ],
             [
              0.6666666666666666,
              "#ed7953"
             ],
             [
              0.7777777777777778,
              "#fb9f3a"
             ],
             [
              0.8888888888888888,
              "#fdca26"
             ],
             [
              1,
              "#f0f921"
             ]
            ],
            "type": "contour"
           }
          ],
          "contourcarpet": [
           {
            "colorbar": {
             "outlinewidth": 0,
             "ticks": ""
            },
            "type": "contourcarpet"
           }
          ],
          "heatmap": [
           {
            "colorbar": {
             "outlinewidth": 0,
             "ticks": ""
            },
            "colorscale": [
             [
              0,
              "#0d0887"
             ],
             [
              0.1111111111111111,
              "#46039f"
             ],
             [
              0.2222222222222222,
              "#7201a8"
             ],
             [
              0.3333333333333333,
              "#9c179e"
             ],
             [
              0.4444444444444444,
              "#bd3786"
             ],
             [
              0.5555555555555556,
              "#d8576b"
             ],
             [
              0.6666666666666666,
              "#ed7953"
             ],
             [
              0.7777777777777778,
              "#fb9f3a"
             ],
             [
              0.8888888888888888,
              "#fdca26"
             ],
             [
              1,
              "#f0f921"
             ]
            ],
            "type": "heatmap"
           }
          ],
          "histogram": [
           {
            "marker": {
             "pattern": {
              "fillmode": "overlay",
              "size": 10,
              "solidity": 0.2
             }
            },
            "type": "histogram"
           }
          ],
          "histogram2d": [
           {
            "colorbar": {
             "outlinewidth": 0,
             "ticks": ""
            },
            "colorscale": [
             [
              0,
              "#0d0887"
             ],
             [
              0.1111111111111111,
              "#46039f"
             ],
             [
              0.2222222222222222,
              "#7201a8"
             ],
             [
              0.3333333333333333,
              "#9c179e"
             ],
             [
              0.4444444444444444,
              "#bd3786"
             ],
             [
              0.5555555555555556,
              "#d8576b"
             ],
             [
              0.6666666666666666,
              "#ed7953"
             ],
             [
              0.7777777777777778,
              "#fb9f3a"
             ],
             [
              0.8888888888888888,
              "#fdca26"
             ],
             [
              1,
              "#f0f921"
             ]
            ],
            "type": "histogram2d"
           }
          ],
          "histogram2dcontour": [
           {
            "colorbar": {
             "outlinewidth": 0,
             "ticks": ""
            },
            "colorscale": [
             [
              0,
              "#0d0887"
             ],
             [
              0.1111111111111111,
              "#46039f"
             ],
             [
              0.2222222222222222,
              "#7201a8"
             ],
             [
              0.3333333333333333,
              "#9c179e"
             ],
             [
              0.4444444444444444,
              "#bd3786"
             ],
             [
              0.5555555555555556,
              "#d8576b"
             ],
             [
              0.6666666666666666,
              "#ed7953"
             ],
             [
              0.7777777777777778,
              "#fb9f3a"
             ],
             [
              0.8888888888888888,
              "#fdca26"
             ],
             [
              1,
              "#f0f921"
             ]
            ],
            "type": "histogram2dcontour"
           }
          ],
          "mesh3d": [
           {
            "colorbar": {
             "outlinewidth": 0,
             "ticks": ""
            },
            "type": "mesh3d"
           }
          ],
          "parcoords": [
           {
            "line": {
             "colorbar": {
              "outlinewidth": 0,
              "ticks": ""
             }
            },
            "type": "parcoords"
           }
          ],
          "pie": [
           {
            "automargin": true,
            "type": "pie"
           }
          ],
          "scatter": [
           {
            "fillpattern": {
             "fillmode": "overlay",
             "size": 10,
             "solidity": 0.2
            },
            "type": "scatter"
           }
          ],
          "scatter3d": [
           {
            "line": {
             "colorbar": {
              "outlinewidth": 0,
              "ticks": ""
             }
            },
            "marker": {
             "colorbar": {
              "outlinewidth": 0,
              "ticks": ""
             }
            },
            "type": "scatter3d"
           }
          ],
          "scattercarpet": [
           {
            "marker": {
             "colorbar": {
              "outlinewidth": 0,
              "ticks": ""
             }
            },
            "type": "scattercarpet"
           }
          ],
          "scattergeo": [
           {
            "marker": {
             "colorbar": {
              "outlinewidth": 0,
              "ticks": ""
             }
            },
            "type": "scattergeo"
           }
          ],
          "scattergl": [
           {
            "marker": {
             "colorbar": {
              "outlinewidth": 0,
              "ticks": ""
             }
            },
            "type": "scattergl"
           }
          ],
          "scattermap": [
           {
            "marker": {
             "colorbar": {
              "outlinewidth": 0,
              "ticks": ""
             }
            },
            "type": "scattermap"
           }
          ],
          "scattermapbox": [
           {
            "marker": {
             "colorbar": {
              "outlinewidth": 0,
              "ticks": ""
             }
            },
            "type": "scattermapbox"
           }
          ],
          "scatterpolar": [
           {
            "marker": {
             "colorbar": {
              "outlinewidth": 0,
              "ticks": ""
             }
            },
            "type": "scatterpolar"
           }
          ],
          "scatterpolargl": [
           {
            "marker": {
             "colorbar": {
              "outlinewidth": 0,
              "ticks": ""
             }
            },
            "type": "scatterpolargl"
           }
          ],
          "scatterternary": [
           {
            "marker": {
             "colorbar": {
              "outlinewidth": 0,
              "ticks": ""
             }
            },
            "type": "scatterternary"
           }
          ],
          "surface": [
           {
            "colorbar": {
             "outlinewidth": 0,
             "ticks": ""
            },
            "colorscale": [
             [
              0,
              "#0d0887"
             ],
             [
              0.1111111111111111,
              "#46039f"
             ],
             [
              0.2222222222222222,
              "#7201a8"
             ],
             [
              0.3333333333333333,
              "#9c179e"
             ],
             [
              0.4444444444444444,
              "#bd3786"
             ],
             [
              0.5555555555555556,
              "#d8576b"
             ],
             [
              0.6666666666666666,
              "#ed7953"
             ],
             [
              0.7777777777777778,
              "#fb9f3a"
             ],
             [
              0.8888888888888888,
              "#fdca26"
             ],
             [
              1,
              "#f0f921"
             ]
            ],
            "type": "surface"
           }
          ],
          "table": [
           {
            "cells": {
             "fill": {
              "color": "#EBF0F8"
             },
             "line": {
              "color": "white"
             }
            },
            "header": {
             "fill": {
              "color": "#C8D4E3"
             },
             "line": {
              "color": "white"
             }
            },
            "type": "table"
           }
          ]
         },
         "layout": {
          "annotationdefaults": {
           "arrowcolor": "#2a3f5f",
           "arrowhead": 0,
           "arrowwidth": 1
          },
          "autotypenumbers": "strict",
          "coloraxis": {
           "colorbar": {
            "outlinewidth": 0,
            "ticks": ""
           }
          },
          "colorscale": {
           "diverging": [
            [
             0,
             "#8e0152"
            ],
            [
             0.1,
             "#c51b7d"
            ],
            [
             0.2,
             "#de77ae"
            ],
            [
             0.3,
             "#f1b6da"
            ],
            [
             0.4,
             "#fde0ef"
            ],
            [
             0.5,
             "#f7f7f7"
            ],
            [
             0.6,
             "#e6f5d0"
            ],
            [
             0.7,
             "#b8e186"
            ],
            [
             0.8,
             "#7fbc41"
            ],
            [
             0.9,
             "#4d9221"
            ],
            [
             1,
             "#276419"
            ]
           ],
           "sequential": [
            [
             0,
             "#0d0887"
            ],
            [
             0.1111111111111111,
             "#46039f"
            ],
            [
             0.2222222222222222,
             "#7201a8"
            ],
            [
             0.3333333333333333,
             "#9c179e"
            ],
            [
             0.4444444444444444,
             "#bd3786"
            ],
            [
             0.5555555555555556,
             "#d8576b"
            ],
            [
             0.6666666666666666,
             "#ed7953"
            ],
            [
             0.7777777777777778,
             "#fb9f3a"
            ],
            [
             0.8888888888888888,
             "#fdca26"
            ],
            [
             1,
             "#f0f921"
            ]
           ],
           "sequentialminus": [
            [
             0,
             "#0d0887"
            ],
            [
             0.1111111111111111,
             "#46039f"
            ],
            [
             0.2222222222222222,
             "#7201a8"
            ],
            [
             0.3333333333333333,
             "#9c179e"
            ],
            [
             0.4444444444444444,
             "#bd3786"
            ],
            [
             0.5555555555555556,
             "#d8576b"
            ],
            [
             0.6666666666666666,
             "#ed7953"
            ],
            [
             0.7777777777777778,
             "#fb9f3a"
            ],
            [
             0.8888888888888888,
             "#fdca26"
            ],
            [
             1,
             "#f0f921"
            ]
           ]
          },
          "colorway": [
           "#636efa",
           "#EF553B",
           "#00cc96",
           "#ab63fa",
           "#FFA15A",
           "#19d3f3",
           "#FF6692",
           "#B6E880",
           "#FF97FF",
           "#FECB52"
          ],
          "font": {
           "color": "#2a3f5f"
          },
          "geo": {
           "bgcolor": "white",
           "lakecolor": "white",
           "landcolor": "#E5ECF6",
           "showlakes": true,
           "showland": true,
           "subunitcolor": "white"
          },
          "hoverlabel": {
           "align": "left"
          },
          "hovermode": "closest",
          "mapbox": {
           "style": "light"
          },
          "paper_bgcolor": "white",
          "plot_bgcolor": "#E5ECF6",
          "polar": {
           "angularaxis": {
            "gridcolor": "white",
            "linecolor": "white",
            "ticks": ""
           },
           "bgcolor": "#E5ECF6",
           "radialaxis": {
            "gridcolor": "white",
            "linecolor": "white",
            "ticks": ""
           }
          },
          "scene": {
           "xaxis": {
            "backgroundcolor": "#E5ECF6",
            "gridcolor": "white",
            "gridwidth": 2,
            "linecolor": "white",
            "showbackground": true,
            "ticks": "",
            "zerolinecolor": "white"
           },
           "yaxis": {
            "backgroundcolor": "#E5ECF6",
            "gridcolor": "white",
            "gridwidth": 2,
            "linecolor": "white",
            "showbackground": true,
            "ticks": "",
            "zerolinecolor": "white"
           },
           "zaxis": {
            "backgroundcolor": "#E5ECF6",
            "gridcolor": "white",
            "gridwidth": 2,
            "linecolor": "white",
            "showbackground": true,
            "ticks": "",
            "zerolinecolor": "white"
           }
          },
          "shapedefaults": {
           "line": {
            "color": "#2a3f5f"
           }
          },
          "ternary": {
           "aaxis": {
            "gridcolor": "white",
            "linecolor": "white",
            "ticks": ""
           },
           "baxis": {
            "gridcolor": "white",
            "linecolor": "white",
            "ticks": ""
           },
           "bgcolor": "#E5ECF6",
           "caxis": {
            "gridcolor": "white",
            "linecolor": "white",
            "ticks": ""
           }
          },
          "title": {
           "x": 0.05
          },
          "xaxis": {
           "automargin": true,
           "gridcolor": "white",
           "linecolor": "white",
           "ticks": "",
           "title": {
            "standoff": 15
           },
           "zerolinecolor": "white",
           "zerolinewidth": 2
          },
          "yaxis": {
           "automargin": true,
           "gridcolor": "white",
           "linecolor": "white",
           "ticks": "",
           "title": {
            "standoff": 15
           },
           "zerolinecolor": "white",
           "zerolinewidth": 2
          }
         }
        },
        "title": {
         "text": "Porcentaje de TIPO_DEPEN para cada región"
        },
        "xaxis": {
         "title": {
          "text": "Porcentaje (%)"
         }
        },
        "yaxis": {
         "title": {
          "text": "Región"
         }
        }
       }
      }
     },
     "metadata": {},
     "output_type": "display_data"
    }
   ],
   "source": [
    "# Diccionario ID Región -> Nombre Región\n",
    "regiones_dict = {\n",
    "    1: 'Región de Tarapacá',\n",
    "    2: 'Región de Antofagasta',\n",
    "    3: 'Región de Atacama',\n",
    "    4: 'Región de Coquimbo',\n",
    "    5: 'Región de Valparaíso',\n",
    "    6: 'Región Metropolitana de Santiago',\n",
    "    7: 'Región del Libertador Gral. Bernardo O’Higgins',\n",
    "    8: 'Región del Maule',\n",
    "    9: 'Región de Biobío',\n",
    "    10: 'Región de La Araucanía',\n",
    "    11: 'Región de Los Ríos',\n",
    "    12: 'Región de Los Lagos',\n",
    "    13: 'Región de Aysén del Gral. Carlos Ibáñez del Campo',\n",
    "    14: 'Región de Magallanes y de la Antártica Chilena',\n",
    "    15: 'Región de Arica y Parinacota',\n",
    "    16: 'Región de Ñuble'\n",
    "}\n",
    "\n",
    "# Diccionario TIPO_DEPEN -> Nombre\n",
    "tipodepen_dict = {\n",
    "    1: 'Municipal',\n",
    "    2: 'Particular Subvencionado',\n",
    "    3: 'Particular Pagado',\n",
    "    4: 'Corp. Administración Delegada',\n",
    "    5: 'Servicio Local de Educación'\n",
    "}\n",
    "\n",
    "# Orden de las regiones de norte a sur\n",
    "index_order = [\n",
    "    'Región de Arica y Parinacota',\n",
    "    'Región de Tarapacá',\n",
    "    'Región de Antofagasta',\n",
    "    'Región de Atacama',\n",
    "    'Región de Coquimbo',\n",
    "    'Región de Valparaíso',\n",
    "    'Región Metropolitana de Santiago',\n",
    "    'Región del Libertador Gral. Bernardo O’Higgins',\n",
    "    'Región del Maule',\n",
    "    'Región de Ñuble',\n",
    "    'Región de Biobío',\n",
    "    'Región de La Araucanía',\n",
    "    'Región de Los Ríos',\n",
    "    'Región de Los Lagos',\n",
    "    'Región de Aysén del Gral. Carlos Ibáñez del Campo',\n",
    "    'Región de Magallanes y de la Antártica Chilena'\n",
    "]\n",
    "\n",
    "\n",
    "plot_tipodepen_por_region_plotly(\n",
    "    df=data['set_c'],\n",
    "    regiones_dict=regiones_dict,\n",
    "    tipodepen_dict=tipodepen_dict,\n",
    "    index_order=index_order\n",
    ")"
   ]
  },
  {
   "cell_type": "code",
   "execution_count": null,
   "id": "6df7afbf",
   "metadata": {},
   "outputs": [],
   "source": []
  }
 ],
 "metadata": {
  "kernelspec": {
   "display_name": "docs-py3.10",
   "language": "python",
   "name": "python3"
  },
  "language_info": {
   "codemirror_mode": {
    "name": "ipython",
    "version": 3
   },
   "file_extension": ".py",
   "mimetype": "text/x-python",
   "name": "python",
   "nbconvert_exporter": "python",
   "pygments_lexer": "ipython3",
   "version": "3.10.11"
  }
 },
 "nbformat": 4,
 "nbformat_minor": 5
}
