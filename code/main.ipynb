{
 "cells": [
  {
   "cell_type": "markdown",
   "id": "0182a0c2",
   "metadata": {},
   "source": [
    "**Objetivo:** Leer y estandarizar los datasets (SIES, DEMRE, IVM, georreferenciación, etc.)\n",
    "\n",
    "- Cargar datos de todas las fuentes\n",
    "- Verificar formatos y columnas clave\n",
    "- Establecer claves de unión (`MRUN`, `RBD`, códigos de institución)\n",
    "- Guardar versiones limpias en `data/processed/` (opcional)"
   ]
  },
  {
   "cell_type": "code",
   "execution_count": 1,
   "id": "44ec3bc7",
   "metadata": {},
   "outputs": [],
   "source": [
    "import pandas as pd\n",
    "from pathlib import Path\n",
    "import utils\n",
    "\n",
    "# Configuraciones generales\n",
    "pd.set_option(\"display.max_columns\", None)"
   ]
  },
  {
   "cell_type": "code",
   "execution_count": 2,
   "id": "51098410",
   "metadata": {},
   "outputs": [
    {
     "data": {
      "text/plain": [
       "[WindowsPath('../data/raw/2021/20230802_Matrícula_Ed_Superior_2021_PUBL_MRUN.csv'),\n",
       " WindowsPath('../data/raw/2021/A_INSCRITOS_PUNTAJES_PDT_2021_PUB_MRUN.csv'),\n",
       " WindowsPath('../data/raw/2021/establecimientos'),\n",
       " WindowsPath('../data/raw/2021/inmuebles_ies'),\n",
       " WindowsPath('../data/raw/2021/IVM_Establecimientos_2021.xlsx')]"
      ]
     },
     "execution_count": 2,
     "metadata": {},
     "output_type": "execute_result"
    }
   ],
   "source": [
    "# Lectura \n",
    "list( Path(\"../data/raw/2021\").glob('*'))"
   ]
  },
  {
   "cell_type": "code",
   "execution_count": 3,
   "id": "f37a56ea",
   "metadata": {},
   "outputs": [
    {
     "data": {
      "text/plain": [
       "{'matricula': WindowsPath('../data/raw/2021/20230802_Matrícula_Ed_Superior_2021_PUBL_MRUN.csv'),\n",
       " 'puntajes': WindowsPath('../data/raw/2021/A_INSCRITOS_PUNTAJES_PDT_2021_PUB_MRUN.csv'),\n",
       " 'ivm': WindowsPath('../data/raw/2021/IVM_Establecimientos_2021.xlsx'),\n",
       " 'establecimientos': WindowsPath('../data/raw/2021/establecimientos/layer_establecimientos_educacion_escolar_20220309024120.shp'),\n",
       " 'inmuebles_ies': WindowsPath('../data/raw/2021/inmuebles_ies/layer_establecimientos_de_educacion_superior_20220309024111.shp')}"
      ]
     },
     "execution_count": 3,
     "metadata": {},
     "output_type": "execute_result"
    }
   ],
   "source": [
    "# Ruta base\n",
    "path_base = Path('../data/raw')\n",
    "year = 2021\n",
    "\n",
    "# Obtener paths del año\n",
    "path_year = utils.obtener_paths_anio(path_base, year)\n",
    "path_year"
   ]
  },
  {
   "cell_type": "code",
   "execution_count": 4,
   "id": "ef1c7867",
   "metadata": {},
   "outputs": [],
   "source": [
    "# Leer conjuntos individuales\n",
    "set_a = utils.leer_conjunto_a_desde_path(path_year['matricula'], utils.region_dict)\n",
    "set_b = utils.leer_conjunto_b_desde_path(path_year['puntajes'], utils.region_dict)\n",
    "set_c = utils.leer_conjunto_c_desde_path(path_year['establecimientos'])\n",
    "set_d = utils.leer_conjunto_d_desde_path(path_year['inmuebles_ies'], utils.region_dict)\n",
    "set_e = utils.leer_conjunto_e_desde_path(path_year['ivm'])"
   ]
  },
  {
   "cell_type": "code",
   "execution_count": 6,
   "id": "e94dd05c",
   "metadata": {},
   "outputs": [],
   "source": [
    "# Filtrar A1\n",
    "resultados_a = utils.generar_conjuntos_filtrados(set_a, year)\n",
    "set_a0 = resultados_a['A0']\n",
    "set_aa = resultados_a['A']\n",
    "set_a1 = resultados_a['A1']\n"
   ]
  },
  {
   "cell_type": "code",
   "execution_count": 7,
   "id": "56b60f37",
   "metadata": {},
   "outputs": [],
   "source": [
    "# Carpeta de salida\n",
    "output_path = Path(f'../data/clean/{year}')\n",
    "output_path.mkdir(parents=True, exist_ok=True)\n",
    "\n",
    "# Guardar conjuntos individuales\n",
    "set_a.to_csv(output_path / 'set_a.csv', index=False)\n",
    "set_a0.to_csv(output_path / 'set_a0.csv', index=False)\n",
    "set_aa.to_csv(output_path / 'set_aa.csv', index=False)\n",
    "set_a1.to_csv(output_path / 'set_a1.csv', index=False)\n",
    "set_b.to_csv(output_path / 'set_b.csv', index=False)\n",
    "set_c.to_csv(output_path / 'set_c.csv', index=False)\n",
    "set_d.to_csv(output_path / 'set_d.csv', index=False)\n",
    "set_e.to_csv(output_path / 'set_e.csv', index=False)"
   ]
  },
  {
   "cell_type": "code",
   "execution_count": 8,
   "id": "87d78a17",
   "metadata": {},
   "outputs": [
    {
     "name": "stdout",
     "output_type": "stream",
     "text": [
      "\n",
      "Filling coordinates for 50976 missing entries...\n",
      "Successfully filled 33634 missing coordinates\n",
      "Remaining NA values: 17342\n",
      "Cantidad de observaciones: 77366\n"
     ]
    }
   ],
   "source": [
    "# Generar y guardar conjuntos integrados\n",
    "utils.generar_conjuntos_abcde(\n",
    "    set_a=set_a1,\n",
    "    set_b=set_b,\n",
    "    set_c=set_c,\n",
    "    set_d=set_d,\n",
    "    set_e=set_e,\n",
    "    output_path=output_path\n",
    ")"
   ]
  },
  {
   "cell_type": "markdown",
   "id": "45d40df4",
   "metadata": {},
   "source": [
    "**Objetivo:** Explorar y analizar los datos limpios generados en la etapa de lectura.\n",
    "\n",
    "- Revisar estructura general y dimensiones de los datasets  \n",
    "- Analizar variables clave y su distribución  \n",
    "- Identificar outliers, datos faltantes y relaciones relevantes  \n",
    "- Generar visualizaciones exploratorias para apoyar el análisis  \n"
   ]
  }
 ],
 "metadata": {
  "kernelspec": {
   "display_name": "docs-py3.10",
   "language": "python",
   "name": "python3"
  },
  "language_info": {
   "codemirror_mode": {
    "name": "ipython",
    "version": 3
   },
   "file_extension": ".py",
   "mimetype": "text/x-python",
   "name": "python",
   "nbconvert_exporter": "python",
   "pygments_lexer": "ipython3",
   "version": "3.10.11"
  }
 },
 "nbformat": 4,
 "nbformat_minor": 5
}
